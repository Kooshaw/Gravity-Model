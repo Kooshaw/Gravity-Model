C = np.array([
    [0, 0, 50, 0, 0],
    [0, 0, 60, 0, 0],
    [0, 0, 0, 30, 0],
    [20, 0, 80, 0, 20],
    [0, 70, 90, 10, 0]
], dtype=float)

O = np.array([80, 150, 100, 160, 180])
D = np.array([100, 90, 320, 80, 300])
   "id": "1838b1a9164bc5a0"
  },
  {
   "cell_type": "code",
   "outputs": [],
   "source": [
    "import numpy as np\n",
    "import pandas as pd"
   ],
   "metadata": {
    "collapsed": false,
    "ExecuteTime": {
     "end_time": "2024-12-27T11:08:03.188558500Z",
     "start_time": "2024-12-27T11:08:03.174132700Z"
    }
   },
   "id": "d11ecd40271fceec",
   "execution_count": 57
  },
  {
   "cell_type": "markdown",
   "source": [
    "Defining inputs (The 0 elements of the cost matrix should be defined as infinity because there is no connection between them but here for the simplification we put 0 and then for inputting the deterrence function, we will define the deterrence function output 0 or epsilon for these element because If the input to this function is infinity, its value will be zero)"
   ],
   "metadata": {
    "collapsed": false
   },
   "id": "8aa0d111fddaafd1"
  },
  {
   "cell_type": "code",
   "outputs": [],
   "source": [
    "C = np.array([\n",
    "    [0, 0, 50, 0, 0],\n",
    "    [0, 0, 60, 0, 0],\n",
    "    [0, 0, 0, 30, 0],\n",
    "    [20, 0, 80, 0, 20],\n",
    "    [0, 70, 90, 10, 0]\n",
    "], dtype=float)\n",
    "\n",
    "O = np.array([80, 150, 100, 160, 180])\n",
    "D = np.array([100, 90, 320, 80, 300])"
   ],
   "metadata": {
    "collapsed": false,
    "ExecuteTime": {
     "end_time": "2024-12-27T11:08:03.219837300Z",
     "start_time": "2024-12-27T11:08:03.181560900Z"
    }
   },
   "id": "a9ab1bfe07631961",
   "execution_count": 58
  },
  {
   "cell_type": "markdown",
   "source": [
    "Now, we examine the equality of the total sums of produced and absorbed trips, and if this equality is not maintained, we will correct it. According to the taught concepts, the trip production values are considered as the baseline and valid data"
   ],
   "metadata": {
    "collapsed": false
   },
   "id": "4a3761c7ebf81d04"
  },
  {
   "cell_type": "code",
   "outputs": [],
   "source": [
    "sum_O = np.sum(O)\n",
    "sum_D = np.sum(D)\n",
    "if sum_O != sum_D:\n",
    "    correction_ratio = sum_O / sum_D \n",
    "    D = D * correction_ratio "
   ],
   "metadata": {
    "collapsed": false,
    "ExecuteTime": {
     "end_time": "2024-12-27T11:08:03.220841Z",
     "start_time": "2024-12-27T11:08:03.195034800Z"
    }
   },
   "id": "f1570b224017aa85",
   "execution_count": 59
  },
  {
   "cell_type": "markdown",
   "source": [
    "Defining the deterrence function"
   ],
   "metadata": {
    "collapsed": false
   },
   "id": "74a457fc016b5f4c"
  },
  {
   "cell_type": "code",
   "outputs": [],
   "source": [
    "alpha = 0.05\n",
    "beta = 0.2\n",
    "def deterrence_function(c):\n",
    "    return alpha * np.exp(-beta * (np.log(c + 1))**2)"
   ],
   "metadata": {
    "collapsed": false,
    "ExecuteTime": {
     "end_time": "2024-12-27T11:08:03.221837400Z",
     "start_time": "2024-12-27T11:08:03.201654200Z"
    }
   },
   "id": "8316a3ac0b206ed1",
   "execution_count": 60
  },
  {
   "cell_type": "markdown",
   "source": [
    "Now we define the gravity algorythm with a maximum iterations of 1000"
   ],
   "metadata": {
    "collapsed": false
   },
   "id": "6c4d1d38923322f9"
  },
  {
   "cell_type": "code",
   "outputs": [],
   "source": [
    "def gravity_algorithm(C, O, D, deterrence_when_no_connection, max_iterations=1000, threshold=1e-3):\n",
    "    n_zones = len(O)\n",
    "    T = np.zeros((n_zones, n_zones))\n",
    "    B = np.ones(n_zones)\n",
    "    F = np.vectorize(deterrence_function)(C)\n",
    "\n",
    "    F[C == 0] = deterrence_when_no_connection\n",
    "\n",
    "    for iteration in range(max_iterations):\n",
    "        A = 1 / (np.sum(B * D * F, axis=1)+ 1e-9)\n",
    "\n",
    "        for i in range(n_zones):\n",
    "            for j in range(n_zones):\n",
    "                T[i, j] = A[i] * O[i] * B[j] * D[j] * F[i, j]\n",
    "\n",
    "        B_new = 1 / (np.sum(A[:, None] * O[:, None] * F, axis=0)+ 1e-9)\n",
    "\n",
    "        error = (np.sum(np.abs(O - np.sum(T, axis=1)))\n",
    "                 + np.sum(np.abs(D - np.sum(T, axis=0)))) / np.sum(O)\n",
    "\n",
    "        if error < threshold:\n",
    "            print(f\"Converged after {iteration + 1} iterations\")\n",
    "            break\n",
    "\n",
    "        B = B_new\n",
    "    else:\n",
    "        print(\"Did not converge within the maximum iterations\")\n",
    "\n",
    "    print(\"\\nFinal Trip Matrix T:\")\n",
    "    np.set_printoptions(formatter={'float': '{:0.4f}'.format})\n",
    "    labels = ['A', 'B', 'C', 'D', 'E']\n",
    "    df = pd.DataFrame(T, index=labels, columns=labels)\n",
    "    print(df.round(4))\n",
    "    print('Error =' ,error)"
   ],
   "metadata": {
    "collapsed": false,
    "ExecuteTime": {
     "end_time": "2024-12-27T11:08:03.239837600Z",
     "start_time": "2024-12-27T11:08:03.212467800Z"
    }
   },
   "id": "a2f1dba1cd981039",
   "execution_count": 61
  },
  {
   "cell_type": "markdown",
   "source": [
    "Now we call the function with deterrence_when_no_connection=0 (as mentioned above, here we define the deterrence function output 0)"
   ],
   "metadata": {
    "collapsed": false
   },
   "id": "c47d27ca41eb9850"
  },
  {
   "cell_type": "code",
   "outputs": [
    {
     "name": "stdout",
     "output_type": "stream",
     "text": [
      "Did not converge within the maximum iterations\n",
      "\n",
      "Final Trip Matrix T:\n",
      "      A        B         C        D      E\n",
      "A   0.0   0.0000   67.4907   0.0000    0.0\n",
      "B   0.0   0.0000  120.2683   0.0000    0.0\n",
      "C   0.0   0.0000    0.0000  27.3009    0.0\n",
      "D  40.0   0.0000    0.0000   0.0000  120.0\n",
      "E   0.0  67.7528   53.1399  32.9238    0.0\n",
      "Error = 0.42126446419587454\n"
     ]
    }
   ],
   "source": [
    "gravity_algorithm(C, O, D, deterrence_when_no_connection=0)"
   ],
   "metadata": {
    "collapsed": false,
    "ExecuteTime": {
     "end_time": "2024-12-27T11:08:03.301272Z",
     "start_time": "2024-12-27T11:08:03.220841Z"
    }
   },
   "id": "66ffdf6c540eb38",
   "execution_count": 62
  },
  {
   "cell_type": "markdown",
   "source": [
    "As it is shown, the model couldn't reach an error lower than threshold after 1000 iterations and that's because of lack of connection between some zones"
   ],
   "metadata": {
    "collapsed": false
   },
   "id": "bbafcbe23d81a5e4"
  },
  {
   "cell_type": "markdown",
   "source": [
    "Now we try with a more value than 0 like epsilon: deterrence_when_no_connection = 10^-6"
   ],
   "metadata": {
    "collapsed": false
   },
   "id": "152e88c81a4157d8"
  },
  {
   "cell_type": "code",
   "outputs": [
    {
     "name": "stdout",
     "output_type": "stream",
     "text": [
      "Converged after 19 iterations\n",
      "\n",
      "Final Trip Matrix T:\n",
      "         A        B         C        D         E\n",
      "A   3.1256   0.0244   67.4720   0.0010    9.3769\n",
      "B   7.4284   0.0580  120.2261   0.0024   22.2851\n",
      "C  18.1155   0.1414    0.1722  27.2243   54.3465\n",
      "D  39.9872   0.0000    0.0510   0.0000  119.9617\n",
      "E   6.5548  67.5708   53.2262  32.9838   19.6644\n",
      "Error = 0.0008673935031143732\n"
     ]
    }
   ],
   "source": [
    "gravity_algorithm(C, O, D, deterrence_when_no_connection=10**-6)"
   ],
   "metadata": {
    "collapsed": false,
    "ExecuteTime": {
     "end_time": "2024-12-27T11:08:03.313825500Z",
     "start_time": "2024-12-27T11:08:03.301272Z"
    }
   },
   "id": "8de982b59c16e481",
   "execution_count": 63
  },
  {
   "cell_type": "markdown",
   "source": [
    "In this case, we reached the error lower than threshold but now we have positive values for elements of the matrix which doesn't have connection so the answer is not true and the problem doesn't have answer"
   ],
   "metadata": {
    "collapsed": false
   },
   "id": "8a220a6c0433af6b"
  },
  {
   "cell_type": "code",
   "outputs": [],
   "source": [],
   "metadata": {
    "collapsed": false,
    "ExecuteTime": {
     "end_time": "2024-12-27T11:08:03.317837100Z",
     "start_time": "2024-12-27T11:08:03.313825500Z"
    }
   },
   "id": "1192e3bad09a271",
   "execution_count": 63
  }
 ],
 "metadata": {
  "kernelspec": {
   "display_name": "Python 3",
   "language": "python",
   "name": "python3"
  },
  "language_info": {
   "codemirror_mode": {
    "name": "ipython",
    "version": 2
   },
   "file_extension": ".py",
   "mimetype": "text/x-python",
   "name": "python",
   "nbconvert_exporter": "python",
   "pygments_lexer": "ipython2",
   "version": "2.7.6"
  }
 },
 "nbformat": 4,
 "nbformat_minor": 5
}
